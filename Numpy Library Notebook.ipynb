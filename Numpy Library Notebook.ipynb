{
 "cells": [
  {
   "cell_type": "markdown",
   "id": "ac183f01",
   "metadata": {},
   "source": [
    "# PYTHON LIBRARY "
   ]
  },
  {
   "cell_type": "markdown",
   "id": "ba6ea3c1",
   "metadata": {},
   "source": [
    "NUMPY "
   ]
  },
  {
   "cell_type": "markdown",
   "id": "2a53e9b6",
   "metadata": {},
   "source": [
    "# Declearation of Numpy"
   ]
  },
  {
   "cell_type": "code",
   "execution_count": 2,
   "id": "15972de6",
   "metadata": {},
   "outputs": [],
   "source": [
    "import numpy as np"
   ]
  },
  {
   "cell_type": "code",
   "execution_count": 3,
   "id": "687ee9bb",
   "metadata": {},
   "outputs": [],
   "source": [
    "A = np.array([1,2,3,4,5,6,7,8])"
   ]
  },
  {
   "cell_type": "code",
   "execution_count": 4,
   "id": "636a0d8d",
   "metadata": {},
   "outputs": [
    {
     "data": {
      "text/plain": [
       "array([1, 2, 3, 4, 5, 6, 7, 8])"
      ]
     },
     "execution_count": 4,
     "metadata": {},
     "output_type": "execute_result"
    }
   ],
   "source": [
    "A"
   ]
  },
  {
   "cell_type": "code",
   "execution_count": 5,
   "id": "01c0aea1",
   "metadata": {},
   "outputs": [
    {
     "data": {
      "text/plain": [
       "1"
      ]
     },
     "execution_count": 5,
     "metadata": {},
     "output_type": "execute_result"
    }
   ],
   "source": [
    "A[0]"
   ]
  },
  {
   "cell_type": "markdown",
   "id": "4135861c",
   "metadata": {},
   "source": [
    "# Found the type of numpy"
   ]
  },
  {
   "cell_type": "code",
   "execution_count": 8,
   "id": "151dbd9b",
   "metadata": {},
   "outputs": [
    {
     "data": {
      "text/plain": [
       "dtype('int32')"
      ]
     },
     "execution_count": 8,
     "metadata": {},
     "output_type": "execute_result"
    }
   ],
   "source": [
    "(A.dtype)"
   ]
  },
  {
   "cell_type": "markdown",
   "id": "badcd5ba",
   "metadata": {},
   "source": [
    "# Numpy Dimentions"
   ]
  },
  {
   "cell_type": "code",
   "execution_count": 11,
   "id": "1cfabe1f",
   "metadata": {},
   "outputs": [],
   "source": [
    "B = np.array([[1,2,3],[4,5,6]])"
   ]
  },
  {
   "cell_type": "code",
   "execution_count": 12,
   "id": "da6341ff",
   "metadata": {},
   "outputs": [
    {
     "name": "stdout",
     "output_type": "stream",
     "text": [
      "int32\n"
     ]
    }
   ],
   "source": [
    "print(B.dtype)"
   ]
  },
  {
   "cell_type": "code",
   "execution_count": 13,
   "id": "db375fc4",
   "metadata": {},
   "outputs": [
    {
     "name": "stdout",
     "output_type": "stream",
     "text": [
      "2\n"
     ]
    }
   ],
   "source": [
    "print(B.ndim)"
   ]
  },
  {
   "cell_type": "code",
   "execution_count": 14,
   "id": "4c78c0dc",
   "metadata": {},
   "outputs": [
    {
     "name": "stdout",
     "output_type": "stream",
     "text": [
      "2\n"
     ]
    }
   ],
   "source": [
    "print(B[0,1])"
   ]
  },
  {
   "cell_type": "code",
   "execution_count": 15,
   "id": "e8af867b",
   "metadata": {},
   "outputs": [
    {
     "name": "stdout",
     "output_type": "stream",
     "text": [
      "6\n"
     ]
    }
   ],
   "source": [
    "print(B[1,2])"
   ]
  },
  {
   "cell_type": "markdown",
   "id": "ec42f70d",
   "metadata": {},
   "source": [
    "# Find The Size Of Array In Numpy"
   ]
  },
  {
   "cell_type": "code",
   "execution_count": 16,
   "id": "033d22f7",
   "metadata": {},
   "outputs": [
    {
     "data": {
      "text/plain": [
       "8"
      ]
     },
     "execution_count": 16,
     "metadata": {},
     "output_type": "execute_result"
    }
   ],
   "source": [
    "A.size"
   ]
  },
  {
   "cell_type": "code",
   "execution_count": 17,
   "id": "409b29cf",
   "metadata": {},
   "outputs": [
    {
     "data": {
      "text/plain": [
       "6"
      ]
     },
     "execution_count": 17,
     "metadata": {},
     "output_type": "execute_result"
    }
   ],
   "source": [
    "B.size"
   ]
  },
  {
   "cell_type": "code",
   "execution_count": 18,
   "id": "f219819a",
   "metadata": {},
   "outputs": [
    {
     "data": {
      "text/plain": [
       "32"
      ]
     },
     "execution_count": 18,
     "metadata": {},
     "output_type": "execute_result"
    }
   ],
   "source": [
    "A.nbytes"
   ]
  },
  {
   "cell_type": "code",
   "execution_count": 19,
   "id": "495fdf8b",
   "metadata": {},
   "outputs": [
    {
     "data": {
      "text/plain": [
       "24"
      ]
     },
     "execution_count": 19,
     "metadata": {},
     "output_type": "execute_result"
    }
   ],
   "source": [
    "B.nbytes"
   ]
  },
  {
   "cell_type": "code",
   "execution_count": 21,
   "id": "c149bd0b",
   "metadata": {},
   "outputs": [
    {
     "data": {
      "text/plain": [
       "dtype('int32')"
      ]
     },
     "execution_count": 21,
     "metadata": {},
     "output_type": "execute_result"
    }
   ],
   "source": [
    "A.dtype"
   ]
  },
  {
   "cell_type": "code",
   "execution_count": 22,
   "id": "33f12432",
   "metadata": {},
   "outputs": [
    {
     "data": {
      "text/plain": [
       "dtype('int32')"
      ]
     },
     "execution_count": 22,
     "metadata": {},
     "output_type": "execute_result"
    }
   ],
   "source": [
    "B.dtype"
   ]
  },
  {
   "cell_type": "markdown",
   "id": "40b2215c",
   "metadata": {},
   "source": [
    "# Numpy Functions"
   ]
  },
  {
   "cell_type": "markdown",
   "id": "0536c7e2",
   "metadata": {},
   "source": [
    "1. Arrange Functions"
   ]
  },
  {
   "cell_type": "code",
   "execution_count": 23,
   "id": "8d5aaf86",
   "metadata": {},
   "outputs": [],
   "source": [
    "C = np.arange(10)"
   ]
  },
  {
   "cell_type": "code",
   "execution_count": 24,
   "id": "4fe7c946",
   "metadata": {},
   "outputs": [
    {
     "data": {
      "text/plain": [
       "array([0, 1, 2, 3, 4, 5, 6, 7, 8, 9])"
      ]
     },
     "execution_count": 24,
     "metadata": {},
     "output_type": "execute_result"
    }
   ],
   "source": [
    "C"
   ]
  },
  {
   "cell_type": "code",
   "execution_count": 25,
   "id": "77ec2431",
   "metadata": {},
   "outputs": [],
   "source": [
    "D = np.arange(20,100)"
   ]
  },
  {
   "cell_type": "code",
   "execution_count": 26,
   "id": "032c083c",
   "metadata": {},
   "outputs": [
    {
     "data": {
      "text/plain": [
       "array([20, 21, 22, 23, 24, 25, 26, 27, 28, 29, 30, 31, 32, 33, 34, 35, 36,\n",
       "       37, 38, 39, 40, 41, 42, 43, 44, 45, 46, 47, 48, 49, 50, 51, 52, 53,\n",
       "       54, 55, 56, 57, 58, 59, 60, 61, 62, 63, 64, 65, 66, 67, 68, 69, 70,\n",
       "       71, 72, 73, 74, 75, 76, 77, 78, 79, 80, 81, 82, 83, 84, 85, 86, 87,\n",
       "       88, 89, 90, 91, 92, 93, 94, 95, 96, 97, 98, 99])"
      ]
     },
     "execution_count": 26,
     "metadata": {},
     "output_type": "execute_result"
    }
   ],
   "source": [
    "D"
   ]
  },
  {
   "cell_type": "code",
   "execution_count": 27,
   "id": "9451818a",
   "metadata": {},
   "outputs": [],
   "source": [
    "E = np.arange(10,1000,2)"
   ]
  },
  {
   "cell_type": "code",
   "execution_count": 28,
   "id": "9b8709cc",
   "metadata": {},
   "outputs": [
    {
     "data": {
      "text/plain": [
       "array([ 10,  12,  14,  16,  18,  20,  22,  24,  26,  28,  30,  32,  34,\n",
       "        36,  38,  40,  42,  44,  46,  48,  50,  52,  54,  56,  58,  60,\n",
       "        62,  64,  66,  68,  70,  72,  74,  76,  78,  80,  82,  84,  86,\n",
       "        88,  90,  92,  94,  96,  98, 100, 102, 104, 106, 108, 110, 112,\n",
       "       114, 116, 118, 120, 122, 124, 126, 128, 130, 132, 134, 136, 138,\n",
       "       140, 142, 144, 146, 148, 150, 152, 154, 156, 158, 160, 162, 164,\n",
       "       166, 168, 170, 172, 174, 176, 178, 180, 182, 184, 186, 188, 190,\n",
       "       192, 194, 196, 198, 200, 202, 204, 206, 208, 210, 212, 214, 216,\n",
       "       218, 220, 222, 224, 226, 228, 230, 232, 234, 236, 238, 240, 242,\n",
       "       244, 246, 248, 250, 252, 254, 256, 258, 260, 262, 264, 266, 268,\n",
       "       270, 272, 274, 276, 278, 280, 282, 284, 286, 288, 290, 292, 294,\n",
       "       296, 298, 300, 302, 304, 306, 308, 310, 312, 314, 316, 318, 320,\n",
       "       322, 324, 326, 328, 330, 332, 334, 336, 338, 340, 342, 344, 346,\n",
       "       348, 350, 352, 354, 356, 358, 360, 362, 364, 366, 368, 370, 372,\n",
       "       374, 376, 378, 380, 382, 384, 386, 388, 390, 392, 394, 396, 398,\n",
       "       400, 402, 404, 406, 408, 410, 412, 414, 416, 418, 420, 422, 424,\n",
       "       426, 428, 430, 432, 434, 436, 438, 440, 442, 444, 446, 448, 450,\n",
       "       452, 454, 456, 458, 460, 462, 464, 466, 468, 470, 472, 474, 476,\n",
       "       478, 480, 482, 484, 486, 488, 490, 492, 494, 496, 498, 500, 502,\n",
       "       504, 506, 508, 510, 512, 514, 516, 518, 520, 522, 524, 526, 528,\n",
       "       530, 532, 534, 536, 538, 540, 542, 544, 546, 548, 550, 552, 554,\n",
       "       556, 558, 560, 562, 564, 566, 568, 570, 572, 574, 576, 578, 580,\n",
       "       582, 584, 586, 588, 590, 592, 594, 596, 598, 600, 602, 604, 606,\n",
       "       608, 610, 612, 614, 616, 618, 620, 622, 624, 626, 628, 630, 632,\n",
       "       634, 636, 638, 640, 642, 644, 646, 648, 650, 652, 654, 656, 658,\n",
       "       660, 662, 664, 666, 668, 670, 672, 674, 676, 678, 680, 682, 684,\n",
       "       686, 688, 690, 692, 694, 696, 698, 700, 702, 704, 706, 708, 710,\n",
       "       712, 714, 716, 718, 720, 722, 724, 726, 728, 730, 732, 734, 736,\n",
       "       738, 740, 742, 744, 746, 748, 750, 752, 754, 756, 758, 760, 762,\n",
       "       764, 766, 768, 770, 772, 774, 776, 778, 780, 782, 784, 786, 788,\n",
       "       790, 792, 794, 796, 798, 800, 802, 804, 806, 808, 810, 812, 814,\n",
       "       816, 818, 820, 822, 824, 826, 828, 830, 832, 834, 836, 838, 840,\n",
       "       842, 844, 846, 848, 850, 852, 854, 856, 858, 860, 862, 864, 866,\n",
       "       868, 870, 872, 874, 876, 878, 880, 882, 884, 886, 888, 890, 892,\n",
       "       894, 896, 898, 900, 902, 904, 906, 908, 910, 912, 914, 916, 918,\n",
       "       920, 922, 924, 926, 928, 930, 932, 934, 936, 938, 940, 942, 944,\n",
       "       946, 948, 950, 952, 954, 956, 958, 960, 962, 964, 966, 968, 970,\n",
       "       972, 974, 976, 978, 980, 982, 984, 986, 988, 990, 992, 994, 996,\n",
       "       998])"
      ]
     },
     "execution_count": 28,
     "metadata": {},
     "output_type": "execute_result"
    }
   ],
   "source": [
    "E"
   ]
  },
  {
   "cell_type": "markdown",
   "id": "e8ac450d",
   "metadata": {},
   "source": [
    "2. random function"
   ]
  },
  {
   "cell_type": "code",
   "execution_count": 29,
   "id": "e780e06d",
   "metadata": {},
   "outputs": [],
   "source": [
    "F = np.random.permutation(np.arange(100))"
   ]
  },
  {
   "cell_type": "code",
   "execution_count": 30,
   "id": "975859f7",
   "metadata": {},
   "outputs": [
    {
     "data": {
      "text/plain": [
       "array([62, 33, 66, 58, 39, 87, 20, 60, 59,  8, 74, 56, 47,  9, 98, 64, 76,\n",
       "       55, 84, 78, 45, 86, 67, 41, 17, 89, 97, 69, 77, 57, 40, 16, 48, 95,\n",
       "       13, 92, 11, 99, 94, 54, 32,  3, 24, 75, 44, 22,  7, 38, 83, 29, 25,\n",
       "       72, 53, 28,  0,  4, 35, 80, 36, 23, 51, 15, 73,  5, 31, 68, 19, 21,\n",
       "       63, 27, 30, 42, 12, 82, 71,  1, 18, 93, 34, 37, 61, 65, 90, 91, 50,\n",
       "       46, 10, 70, 85, 52, 26, 14, 96, 43,  2, 49, 79, 81, 88,  6])"
      ]
     },
     "execution_count": 30,
     "metadata": {},
     "output_type": "execute_result"
    }
   ],
   "source": [
    "F"
   ]
  },
  {
   "cell_type": "code",
   "execution_count": 31,
   "id": "9a3d4b52",
   "metadata": {},
   "outputs": [],
   "source": [
    "G = np.random.permutation(10)"
   ]
  },
  {
   "cell_type": "code",
   "execution_count": 32,
   "id": "582f8402",
   "metadata": {},
   "outputs": [
    {
     "data": {
      "text/plain": [
       "array([0, 2, 1, 5, 8, 6, 4, 7, 3, 9])"
      ]
     },
     "execution_count": 32,
     "metadata": {},
     "output_type": "execute_result"
    }
   ],
   "source": [
    "G"
   ]
  },
  {
   "cell_type": "markdown",
   "id": "5285ffb2",
   "metadata": {},
   "source": [
    ". randint Function"
   ]
  },
  {
   "cell_type": "code",
   "execution_count": 33,
   "id": "9b06bd10",
   "metadata": {},
   "outputs": [],
   "source": [
    "H = np.random.randint(90)"
   ]
  },
  {
   "cell_type": "code",
   "execution_count": 34,
   "id": "43a3b788",
   "metadata": {},
   "outputs": [
    {
     "data": {
      "text/plain": [
       "23"
      ]
     },
     "execution_count": 34,
     "metadata": {},
     "output_type": "execute_result"
    }
   ],
   "source": [
    "H"
   ]
  },
  {
   "cell_type": "code",
   "execution_count": 35,
   "id": "50d37da8",
   "metadata": {},
   "outputs": [],
   "source": [
    "I = np.random.randint(20,40)"
   ]
  },
  {
   "cell_type": "code",
   "execution_count": 36,
   "id": "2e34d51c",
   "metadata": {},
   "outputs": [
    {
     "name": "stdout",
     "output_type": "stream",
     "text": [
      "39\n"
     ]
    }
   ],
   "source": [
    "print(I)"
   ]
  },
  {
   "cell_type": "markdown",
   "id": "4a356d9d",
   "metadata": {},
   "source": [
    ". rand Function"
   ]
  },
  {
   "cell_type": "code",
   "execution_count": 37,
   "id": "04c06dc9",
   "metadata": {},
   "outputs": [],
   "source": [
    "J = np.random.rand(2000)"
   ]
  },
  {
   "cell_type": "code",
   "execution_count": 45,
   "id": "87f918aa",
   "metadata": {},
   "outputs": [
    {
     "name": "stdout",
     "output_type": "stream",
     "text": [
      "[0.58203511 0.21515087 0.82553188 ... 0.22256292 0.42259537 0.83627823]\n"
     ]
    }
   ],
   "source": [
    "print(J)"
   ]
  },
  {
   "cell_type": "code",
   "execution_count": 41,
   "id": "825c5108",
   "metadata": {},
   "outputs": [],
   "source": [
    "import matplotlib.pyplot as plt\n"
   ]
  },
  {
   "cell_type": "code",
   "execution_count": 42,
   "id": "6c24a169",
   "metadata": {},
   "outputs": [
    {
     "data": {
      "text/plain": [
       "(array([1., 1., 1., 0., 1., 1., 0., 1., 1., 1.]),\n",
       " array([1. , 1.7, 2.4, 3.1, 3.8, 4.5, 5.2, 5.9, 6.6, 7.3, 8. ]),\n",
       " <BarContainer object of 10 artists>)"
      ]
     },
     "execution_count": 42,
     "metadata": {},
     "output_type": "execute_result"
    },
    {
     "data": {
      "image/png": "[encoded data removed]",
      "text/plain": [
       "<Figure size 432x288 with 1 Axes>"
      ]
     },
     "metadata": {
      "needs_background": "light"
     },
     "output_type": "display_data"
    }
   ],
   "source": [
    "plt.hist(A,bins=10)"
   ]
  },
  {
   "cell_type": "code",
   "execution_count": 43,
   "id": "8195dfb7",
   "metadata": {},
   "outputs": [],
   "source": [
    "K = np.random.randn (1000000)"
   ]
  },
  {
   "cell_type": "code",
   "execution_count": 44,
   "id": "c860b98b",
   "metadata": {},
   "outputs": [
    {
     "data": {
      "text/plain": [
       "(array([1.0000e+00, 0.0000e+00, 0.0000e+00, 1.0000e+00, 2.0000e+00,\n",
       "        0.0000e+00, 1.0000e+00, 2.0000e+00, 1.0000e+00, 1.0000e+00,\n",
       "        1.0000e+00, 3.0000e+00, 4.0000e+00, 2.0000e+00, 3.0000e+00,\n",
       "        9.0000e+00, 3.0000e+00, 6.0000e+00, 8.0000e+00, 8.0000e+00,\n",
       "        1.4000e+01, 1.5000e+01, 1.7000e+01, 1.2000e+01, 2.2000e+01,\n",
       "        3.3000e+01, 3.9000e+01, 4.4000e+01, 4.7000e+01, 6.2000e+01,\n",
       "        6.5000e+01, 7.6000e+01, 9.9000e+01, 1.1500e+02, 1.3400e+02,\n",
       "        1.6200e+02, 1.9800e+02, 1.9800e+02, 2.4400e+02, 2.5200e+02,\n",
       "        3.2100e+02, 3.8200e+02, 4.2900e+02, 4.7900e+02, 5.7200e+02,\n",
       "        6.4100e+02, 7.4500e+02, 7.7400e+02, 9.4000e+02, 1.0610e+03,\n",
       "        1.2280e+03, 1.2600e+03, 1.5270e+03, 1.6400e+03, 1.9030e+03,\n",
       "        2.0790e+03, 2.2810e+03, 2.5040e+03, 2.8010e+03, 3.0990e+03,\n",
       "        3.3470e+03, 3.7150e+03, 4.0950e+03, 4.3000e+03, 4.7690e+03,\n",
       "        5.2240e+03, 5.6780e+03, 6.0290e+03, 6.5150e+03, 6.9210e+03,\n",
       "        7.4490e+03, 7.9900e+03, 8.7760e+03, 9.2060e+03, 9.7650e+03,\n",
       "        1.0284e+04, 1.0996e+04, 1.1321e+04, 1.2300e+04, 1.2649e+04,\n",
       "        1.3318e+04, 1.3510e+04, 1.4287e+04, 1.4847e+04, 1.5540e+04,\n",
       "        1.6110e+04, 1.6460e+04, 1.6878e+04, 1.7381e+04, 1.7976e+04,\n",
       "        1.8078e+04, 1.8419e+04, 1.9075e+04, 1.9164e+04, 1.9375e+04,\n",
       "        1.9780e+04, 1.9650e+04, 1.9774e+04, 1.9664e+04, 1.9602e+04,\n",
       "        1.9615e+04, 1.9401e+04, 1.9444e+04, 1.9148e+04, 1.8887e+04,\n",
       "        1.8567e+04, 1.8270e+04, 1.7855e+04, 1.7277e+04, 1.6971e+04,\n",
       "        1.6809e+04, 1.5870e+04, 1.5569e+04, 1.5221e+04, 1.4534e+04,\n",
       "        1.3658e+04, 1.3499e+04, 1.2816e+04, 1.2016e+04, 1.1651e+04,\n",
       "        1.0714e+04, 1.0186e+04, 9.8050e+03, 9.2610e+03, 8.8650e+03,\n",
       "        8.0380e+03, 7.6240e+03, 6.9050e+03, 6.6320e+03, 6.0370e+03,\n",
       "        5.6840e+03, 5.2490e+03, 4.7360e+03, 4.4470e+03, 4.1120e+03,\n",
       "        3.7190e+03, 3.4410e+03, 3.0790e+03, 2.7370e+03, 2.5110e+03,\n",
       "        2.3090e+03, 2.0920e+03, 1.9060e+03, 1.5930e+03, 1.5040e+03,\n",
       "        1.3100e+03, 1.2350e+03, 1.0570e+03, 9.2900e+02, 8.3000e+02,\n",
       "        7.2700e+02, 6.7100e+02, 5.4700e+02, 4.9700e+02, 4.7000e+02,\n",
       "        3.8600e+02, 3.2400e+02, 3.1300e+02, 2.7100e+02, 2.1600e+02,\n",
       "        1.8200e+02, 1.4600e+02, 1.4800e+02, 1.1700e+02, 8.7000e+01,\n",
       "        7.2000e+01, 7.7000e+01, 6.5000e+01, 3.9000e+01, 3.6000e+01,\n",
       "        2.6000e+01, 3.3000e+01, 3.0000e+01, 1.7000e+01, 1.5000e+01,\n",
       "        1.3000e+01, 1.6000e+01, 7.0000e+00, 1.1000e+01, 5.0000e+00,\n",
       "        4.0000e+00, 7.0000e+00, 1.0000e+00, 1.0000e+00, 2.0000e+00,\n",
       "        1.0000e+00, 1.0000e+00, 0.0000e+00, 2.0000e+00, 1.0000e+00,\n",
       "        2.0000e+00, 1.0000e+00, 0.0000e+00, 0.0000e+00, 0.0000e+00,\n",
       "        0.0000e+00, 0.0000e+00, 0.0000e+00, 0.0000e+00, 1.0000e+00]),\n",
       " array([-4.86589646, -4.81654519, -4.76719391, -4.71784263, -4.66849135,\n",
       "        -4.61914007, -4.5697888 , -4.52043752, -4.47108624, -4.42173496,\n",
       "        -4.37238369, -4.32303241, -4.27368113, -4.22432985, -4.17497858,\n",
       "        -4.1256273 , -4.07627602, -4.02692474, -3.97757347, -3.92822219,\n",
       "        -3.87887091, -3.82951963, -3.78016835, -3.73081708, -3.6814658 ,\n",
       "        -3.63211452, -3.58276324, -3.53341197, -3.48406069, -3.43470941,\n",
       "        -3.38535813, -3.33600686, -3.28665558, -3.2373043 , -3.18795302,\n",
       "        -3.13860174, -3.08925047, -3.03989919, -2.99054791, -2.94119663,\n",
       "        -2.89184536, -2.84249408, -2.7931428 , -2.74379152, -2.69444025,\n",
       "        -2.64508897, -2.59573769, -2.54638641, -2.49703513, -2.44768386,\n",
       "        -2.39833258, -2.3489813 , -2.29963002, -2.25027875, -2.20092747,\n",
       "        -2.15157619, -2.10222491, -2.05287364, -2.00352236, -1.95417108,\n",
       "        -1.9048198 , -1.85546853, -1.80611725, -1.75676597, -1.70741469,\n",
       "        -1.65806341, -1.60871214, -1.55936086, -1.51000958, -1.4606583 ,\n",
       "        -1.41130703, -1.36195575, -1.31260447, -1.26325319, -1.21390192,\n",
       "        -1.16455064, -1.11519936, -1.06584808, -1.0164968 , -0.96714553,\n",
       "        -0.91779425, -0.86844297, -0.81909169, -0.76974042, -0.72038914,\n",
       "        -0.67103786, -0.62168658, -0.57233531, -0.52298403, -0.47363275,\n",
       "        -0.42428147, -0.37493019, -0.32557892, -0.27622764, -0.22687636,\n",
       "        -0.17752508, -0.12817381, -0.07882253, -0.02947125,  0.01988003,\n",
       "         0.0692313 ,  0.11858258,  0.16793386,  0.21728514,  0.26663642,\n",
       "         0.31598769,  0.36533897,  0.41469025,  0.46404153,  0.5133928 ,\n",
       "         0.56274408,  0.61209536,  0.66144664,  0.71079791,  0.76014919,\n",
       "         0.80950047,  0.85885175,  0.90820302,  0.9575543 ,  1.00690558,\n",
       "         1.05625686,  1.10560814,  1.15495941,  1.20431069,  1.25366197,\n",
       "         1.30301325,  1.35236452,  1.4017158 ,  1.45106708,  1.50041836,\n",
       "         1.54976963,  1.59912091,  1.64847219,  1.69782347,  1.74717475,\n",
       "         1.79652602,  1.8458773 ,  1.89522858,  1.94457986,  1.99393113,\n",
       "         2.04328241,  2.09263369,  2.14198497,  2.19133624,  2.24068752,\n",
       "         2.2900388 ,  2.33939008,  2.38874136,  2.43809263,  2.48744391,\n",
       "         2.53679519,  2.58614647,  2.63549774,  2.68484902,  2.7342003 ,\n",
       "         2.78355158,  2.83290285,  2.88225413,  2.93160541,  2.98095669,\n",
       "         3.03030796,  3.07965924,  3.12901052,  3.1783618 ,  3.22771308,\n",
       "         3.27706435,  3.32641563,  3.37576691,  3.42511819,  3.47446946,\n",
       "         3.52382074,  3.57317202,  3.6225233 ,  3.67187457,  3.72122585,\n",
       "         3.77057713,  3.81992841,  3.86927969,  3.91863096,  3.96798224,\n",
       "         4.01733352,  4.0666848 ,  4.11603607,  4.16538735,  4.21473863,\n",
       "         4.26408991,  4.31344118,  4.36279246,  4.41214374,  4.46149502,\n",
       "         4.5108463 ,  4.56019757,  4.60954885,  4.65890013,  4.70825141,\n",
       "         4.75760268,  4.80695396,  4.85630524,  4.90565652,  4.95500779,\n",
       "         5.00435907]),\n",
       " <BarContainer object of 200 artists>)"
      ]
     },
     "execution_count": 44,
     "metadata": {},
     "output_type": "execute_result"
    },
    {
     "data": {
      "image/png": "[encoded data removed]",
      "text/plain": [
       "<Figure size 432x288 with 1 Axes>"
      ]
     },
     "metadata": {
      "needs_background": "light"
     },
     "output_type": "display_data"
    }
   ],
   "source": [
    "plt.hist(K,bins=200)"
   ]
  },
  {
   "cell_type": "code",
   "execution_count": 46,
   "id": "f7764eec",
   "metadata": {},
   "outputs": [],
   "source": [
    "L = np.random.rand(3,2)"
   ]
  },
  {
   "cell_type": "code",
   "execution_count": 47,
   "id": "cd964378",
   "metadata": {},
   "outputs": [
    {
     "name": "stdout",
     "output_type": "stream",
     "text": [
      "[[0.05344662 0.75511629]\n",
      " [0.34042407 0.50259958]\n",
      " [0.37281063 0.17697345]]\n"
     ]
    }
   ],
   "source": [
    "print(L)"
   ]
  },
  {
   "cell_type": "code",
   "execution_count": 48,
   "id": "78c46277",
   "metadata": {},
   "outputs": [
    {
     "data": {
      "text/plain": [
       "dtype('float64')"
      ]
     },
     "execution_count": 48,
     "metadata": {},
     "output_type": "execute_result"
    }
   ],
   "source": [
    "L.dtype"
   ]
  },
  {
   "cell_type": "code",
   "execution_count": 49,
   "id": "19b54ada",
   "metadata": {},
   "outputs": [
    {
     "data": {
      "text/plain": [
       "2"
      ]
     },
     "execution_count": 49,
     "metadata": {},
     "output_type": "execute_result"
    }
   ],
   "source": [
    "L.ndim"
   ]
  },
  {
   "cell_type": "code",
   "execution_count": 50,
   "id": "e4de4707",
   "metadata": {},
   "outputs": [],
   "source": [
    "L1 = np.random.rand(2,3,4,5)"
   ]
  },
  {
   "cell_type": "code",
   "execution_count": 51,
   "id": "3be2d703",
   "metadata": {},
   "outputs": [
    {
     "name": "stdout",
     "output_type": "stream",
     "text": [
      "[[[[5.91933369e-01 5.41984845e-01 8.66591717e-01 4.30281656e-01\n",
      "    7.02297593e-03]\n",
      "   [3.51939399e-02 5.26233833e-01 1.32789640e-01 5.38787719e-01\n",
      "    8.79223728e-02]\n",
      "   [9.92076420e-01 7.67762045e-01 8.97130155e-01 2.86852552e-01\n",
      "    9.81583695e-01]\n",
      "   [2.64716850e-01 2.63026541e-01 2.92352967e-01 2.62856591e-01\n",
      "    8.35177152e-01]]\n",
      "\n",
      "  [[8.04042840e-01 9.92217604e-01 2.71901121e-01 7.88154242e-01\n",
      "    4.99784508e-01]\n",
      "   [7.73763668e-01 4.24261950e-01 8.50291985e-01 1.31481750e-01\n",
      "    7.57593943e-01]\n",
      "   [8.86131480e-03 4.38697079e-01 1.74977971e-01 3.37519792e-01\n",
      "    1.68018066e-02]\n",
      "   [9.97749158e-01 3.71082935e-02 1.14828592e-01 3.58695520e-01\n",
      "    9.48883726e-01]]\n",
      "\n",
      "  [[8.10757399e-01 6.58873802e-01 6.69258207e-01 8.45278767e-01\n",
      "    8.74362233e-01]\n",
      "   [3.45155932e-01 7.86190193e-01 1.91708735e-01 4.63046231e-01\n",
      "    6.28327175e-01]\n",
      "   [1.82802523e-01 2.68193678e-01 1.72852671e-01 7.99841262e-01\n",
      "    5.17391186e-01]\n",
      "   [3.76626175e-01 8.89556371e-01 4.72726715e-01 2.70312444e-01\n",
      "    6.64095252e-01]]]\n",
      "\n",
      "\n",
      " [[[2.61634658e-01 9.68148247e-01 5.33018368e-01 5.46706754e-01\n",
      "    6.24255303e-01]\n",
      "   [8.15075088e-02 7.99546131e-01 7.51101498e-01 3.67436383e-01\n",
      "    2.86154260e-02]\n",
      "   [9.70390122e-01 8.30467082e-01 5.79283093e-01 8.57396685e-01\n",
      "    1.49800041e-01]\n",
      "   [3.74186680e-01 4.68624513e-02 5.66093674e-01 4.09867240e-01\n",
      "    4.20918223e-01]]\n",
      "\n",
      "  [[7.62146092e-01 8.64131386e-02 3.51318719e-02 2.56662183e-01\n",
      "    4.48803050e-01]\n",
      "   [4.99183987e-01 2.88299115e-02 2.22314391e-01 6.17469792e-01\n",
      "    2.77839885e-01]\n",
      "   [7.58421883e-01 8.16724376e-01 6.44328144e-02 6.22379756e-01\n",
      "    6.87003777e-01]\n",
      "   [3.47686249e-02 3.42624127e-01 4.57323259e-01 5.04187934e-01\n",
      "    1.97924428e-01]]\n",
      "\n",
      "  [[7.66269217e-01 6.42864301e-01 9.68056630e-01 4.25980733e-01\n",
      "    6.85276655e-01]\n",
      "   [6.22400402e-01 7.66554520e-01 7.65497103e-02 6.54425262e-01\n",
      "    8.46862330e-05]\n",
      "   [8.41849495e-01 2.67524926e-01 1.08926835e-01 2.99671086e-01\n",
      "    2.41700931e-01]\n",
      "   [4.55764618e-01 5.05317989e-01 4.43357276e-01 9.79474769e-01\n",
      "    3.99865027e-01]]]]\n"
     ]
    }
   ],
   "source": [
    "print(L1)"
   ]
  },
  {
   "cell_type": "code",
   "execution_count": 52,
   "id": "a1ddfae8",
   "metadata": {},
   "outputs": [
    {
     "data": {
      "text/plain": [
       "4"
      ]
     },
     "execution_count": 52,
     "metadata": {},
     "output_type": "execute_result"
    }
   ],
   "source": [
    "L1.ndim"
   ]
  },
  {
   "cell_type": "markdown",
   "id": "4e810cb0",
   "metadata": {},
   "source": [
    "# Reshape Functions"
   ]
  },
  {
   "cell_type": "code",
   "execution_count": 54,
   "id": "70e30e79",
   "metadata": {},
   "outputs": [],
   "source": [
    "L2=np.arange(100).reshape(4,25)"
   ]
  },
  {
   "cell_type": "code",
   "execution_count": 55,
   "id": "ef36c8de",
   "metadata": {},
   "outputs": [
    {
     "name": "stdout",
     "output_type": "stream",
     "text": [
      "[[ 0  1  2  3  4  5  6  7  8  9 10 11 12 13 14 15 16 17 18 19 20 21 22 23\n",
      "  24]\n",
      " [25 26 27 28 29 30 31 32 33 34 35 36 37 38 39 40 41 42 43 44 45 46 47 48\n",
      "  49]\n",
      " [50 51 52 53 54 55 56 57 58 59 60 61 62 63 64 65 66 67 68 69 70 71 72 73\n",
      "  74]\n",
      " [75 76 77 78 79 80 81 82 83 84 85 86 87 88 89 90 91 92 93 94 95 96 97 98\n",
      "  99]]\n"
     ]
    }
   ],
   "source": [
    "print(L2)"
   ]
  },
  {
   "cell_type": "code",
   "execution_count": 56,
   "id": "432b42ff",
   "metadata": {},
   "outputs": [
    {
     "data": {
      "text/plain": [
       "2"
      ]
     },
     "execution_count": 56,
     "metadata": {},
     "output_type": "execute_result"
    }
   ],
   "source": [
    "L2.ndim"
   ]
  },
  {
   "cell_type": "code",
   "execution_count": 57,
   "id": "f0e00850",
   "metadata": {},
   "outputs": [
    {
     "data": {
      "text/plain": [
       "(4, 25)"
      ]
     },
     "execution_count": 57,
     "metadata": {},
     "output_type": "execute_result"
    }
   ],
   "source": [
    "L2.shape"
   ]
  },
  {
   "cell_type": "markdown",
   "id": "c80930fa",
   "metadata": {},
   "source": [
    "# Numpy Slycing"
   ]
  },
  {
   "cell_type": "code",
   "execution_count": 58,
   "id": "81f87da2",
   "metadata": {},
   "outputs": [
    {
     "data": {
      "text/plain": [
       "array([1, 2, 3])"
      ]
     },
     "execution_count": 58,
     "metadata": {},
     "output_type": "execute_result"
    }
   ],
   "source": [
    "A[0:3]"
   ]
  },
  {
   "cell_type": "code",
   "execution_count": 59,
   "id": "f6f2209a",
   "metadata": {},
   "outputs": [
    {
     "data": {
      "text/plain": [
       "array([1, 3, 5, 7])"
      ]
     },
     "execution_count": 59,
     "metadata": {},
     "output_type": "execute_result"
    }
   ],
   "source": [
    "A[0::2]"
   ]
  },
  {
   "cell_type": "code",
   "execution_count": 60,
   "id": "81e6f26c",
   "metadata": {},
   "outputs": [
    {
     "data": {
      "text/plain": [
       "array([2, 3, 4, 5, 6, 7, 8])"
      ]
     },
     "execution_count": 60,
     "metadata": {},
     "output_type": "execute_result"
    }
   ],
   "source": [
    "A[1:]"
   ]
  },
  {
   "cell_type": "code",
   "execution_count": 61,
   "id": "cebdc717",
   "metadata": {},
   "outputs": [
    {
     "data": {
      "text/plain": [
       "array([1, 2, 3])"
      ]
     },
     "execution_count": 61,
     "metadata": {},
     "output_type": "execute_result"
    }
   ],
   "source": [
    "A[:3]"
   ]
  },
  {
   "cell_type": "code",
   "execution_count": 62,
   "id": "0ad666f1",
   "metadata": {},
   "outputs": [
    {
     "data": {
      "text/plain": [
       "array([1, 2, 3, 4, 5, 6, 7, 8])"
      ]
     },
     "execution_count": 62,
     "metadata": {},
     "output_type": "execute_result"
    }
   ],
   "source": [
    "A[::1]"
   ]
  },
  {
   "cell_type": "code",
   "execution_count": 63,
   "id": "3a4aa71d",
   "metadata": {},
   "outputs": [
    {
     "data": {
      "text/plain": [
       "array([8, 7, 6, 5, 4, 3, 2, 1])"
      ]
     },
     "execution_count": 63,
     "metadata": {},
     "output_type": "execute_result"
    }
   ],
   "source": [
    "A[::-1]"
   ]
  },
  {
   "cell_type": "code",
   "execution_count": 65,
   "id": "2d6033b4",
   "metadata": {},
   "outputs": [
    {
     "data": {
      "text/plain": [
       "4"
      ]
     },
     "execution_count": 65,
     "metadata": {},
     "output_type": "execute_result"
    }
   ],
   "source": [
    "A[3]"
   ]
  },
  {
   "cell_type": "markdown",
   "id": "dee143c2",
   "metadata": {},
   "source": [
    "# Copy Functions"
   ]
  },
  {
   "cell_type": "code",
   "execution_count": 67,
   "id": "13d1edfd",
   "metadata": {},
   "outputs": [],
   "source": [
    "N1=np.arange(100)"
   ]
  },
  {
   "cell_type": "code",
   "execution_count": 68,
   "id": "e3c6b480",
   "metadata": {},
   "outputs": [
    {
     "data": {
      "text/plain": [
       "array([ 0,  1,  2,  3,  4,  5,  6,  7,  8,  9, 10, 11, 12, 13, 14, 15, 16,\n",
       "       17, 18, 19, 20, 21, 22, 23, 24, 25, 26, 27, 28, 29, 30, 31, 32, 33,\n",
       "       34, 35, 36, 37, 38, 39, 40, 41, 42, 43, 44, 45, 46, 47, 48, 49, 50,\n",
       "       51, 52, 53, 54, 55, 56, 57, 58, 59, 60, 61, 62, 63, 64, 65, 66, 67,\n",
       "       68, 69, 70, 71, 72, 73, 74, 75, 76, 77, 78, 79, 80, 81, 82, 83, 84,\n",
       "       85, 86, 87, 88, 89, 90, 91, 92, 93, 94, 95, 96, 97, 98, 99])"
      ]
     },
     "execution_count": 68,
     "metadata": {},
     "output_type": "execute_result"
    }
   ],
   "source": [
    "N1"
   ]
  },
  {
   "cell_type": "code",
   "execution_count": 70,
   "id": "277a21b1",
   "metadata": {},
   "outputs": [],
   "source": [
    "N2=N1"
   ]
  },
  {
   "cell_type": "code",
   "execution_count": 71,
   "id": "0154a125",
   "metadata": {},
   "outputs": [
    {
     "data": {
      "text/plain": [
       "array([ 0,  1,  2,  3,  4,  5,  6,  7,  8,  9, 10, 11, 12, 13, 14, 15, 16,\n",
       "       17, 18, 19, 20, 21, 22, 23, 24, 25, 26, 27, 28, 29, 30, 31, 32, 33,\n",
       "       34, 35, 36, 37, 38, 39, 40, 41, 42, 43, 44, 45, 46, 47, 48, 49, 50,\n",
       "       51, 52, 53, 54, 55, 56, 57, 58, 59, 60, 61, 62, 63, 64, 65, 66, 67,\n",
       "       68, 69, 70, 71, 72, 73, 74, 75, 76, 77, 78, 79, 80, 81, 82, 83, 84,\n",
       "       85, 86, 87, 88, 89, 90, 91, 92, 93, 94, 95, 96, 97, 98, 99])"
      ]
     },
     "execution_count": 71,
     "metadata": {},
     "output_type": "execute_result"
    }
   ],
   "source": [
    "N2"
   ]
  },
  {
   "cell_type": "code",
   "execution_count": 72,
   "id": "754fa631",
   "metadata": {},
   "outputs": [],
   "source": [
    "N2[0]=3"
   ]
  },
  {
   "cell_type": "code",
   "execution_count": 73,
   "id": "2d90478b",
   "metadata": {},
   "outputs": [
    {
     "data": {
      "text/plain": [
       "array([ 3,  1,  2,  3,  4,  5,  6,  7,  8,  9, 10, 11, 12, 13, 14, 15, 16,\n",
       "       17, 18, 19, 20, 21, 22, 23, 24, 25, 26, 27, 28, 29, 30, 31, 32, 33,\n",
       "       34, 35, 36, 37, 38, 39, 40, 41, 42, 43, 44, 45, 46, 47, 48, 49, 50,\n",
       "       51, 52, 53, 54, 55, 56, 57, 58, 59, 60, 61, 62, 63, 64, 65, 66, 67,\n",
       "       68, 69, 70, 71, 72, 73, 74, 75, 76, 77, 78, 79, 80, 81, 82, 83, 84,\n",
       "       85, 86, 87, 88, 89, 90, 91, 92, 93, 94, 95, 96, 97, 98, 99])"
      ]
     },
     "execution_count": 73,
     "metadata": {},
     "output_type": "execute_result"
    }
   ],
   "source": [
    "N2"
   ]
  },
  {
   "cell_type": "code",
   "execution_count": 74,
   "id": "93a31fbc",
   "metadata": {},
   "outputs": [
    {
     "data": {
      "text/plain": [
       "array([ 3,  1,  2,  3,  4,  5,  6,  7,  8,  9, 10, 11, 12, 13, 14, 15, 16,\n",
       "       17, 18, 19, 20, 21, 22, 23, 24, 25, 26, 27, 28, 29, 30, 31, 32, 33,\n",
       "       34, 35, 36, 37, 38, 39, 40, 41, 42, 43, 44, 45, 46, 47, 48, 49, 50,\n",
       "       51, 52, 53, 54, 55, 56, 57, 58, 59, 60, 61, 62, 63, 64, 65, 66, 67,\n",
       "       68, 69, 70, 71, 72, 73, 74, 75, 76, 77, 78, 79, 80, 81, 82, 83, 84,\n",
       "       85, 86, 87, 88, 89, 90, 91, 92, 93, 94, 95, 96, 97, 98, 99])"
      ]
     },
     "execution_count": 74,
     "metadata": {},
     "output_type": "execute_result"
    }
   ],
   "source": [
    "N1"
   ]
  },
  {
   "cell_type": "markdown",
   "id": "5c391499",
   "metadata": {},
   "source": [
    "# Copy"
   ]
  },
  {
   "cell_type": "code",
   "execution_count": 75,
   "id": "73dde33a",
   "metadata": {},
   "outputs": [],
   "source": [
    "N2=N1.copy()"
   ]
  },
  {
   "cell_type": "code",
   "execution_count": 76,
   "id": "a1e71e00",
   "metadata": {},
   "outputs": [],
   "source": [
    "N2[0]=0"
   ]
  },
  {
   "cell_type": "code",
   "execution_count": 77,
   "id": "7c907a2e",
   "metadata": {},
   "outputs": [
    {
     "data": {
      "text/plain": [
       "array([ 0,  1,  2,  3,  4,  5,  6,  7,  8,  9, 10, 11, 12, 13, 14, 15, 16,\n",
       "       17, 18, 19, 20, 21, 22, 23, 24, 25, 26, 27, 28, 29, 30, 31, 32, 33,\n",
       "       34, 35, 36, 37, 38, 39, 40, 41, 42, 43, 44, 45, 46, 47, 48, 49, 50,\n",
       "       51, 52, 53, 54, 55, 56, 57, 58, 59, 60, 61, 62, 63, 64, 65, 66, 67,\n",
       "       68, 69, 70, 71, 72, 73, 74, 75, 76, 77, 78, 79, 80, 81, 82, 83, 84,\n",
       "       85, 86, 87, 88, 89, 90, 91, 92, 93, 94, 95, 96, 97, 98, 99])"
      ]
     },
     "execution_count": 77,
     "metadata": {},
     "output_type": "execute_result"
    }
   ],
   "source": [
    "N2"
   ]
  },
  {
   "cell_type": "code",
   "execution_count": 78,
   "id": "661cea21",
   "metadata": {},
   "outputs": [
    {
     "data": {
      "text/plain": [
       "array([ 3,  1,  2,  3,  4,  5,  6,  7,  8,  9, 10, 11, 12, 13, 14, 15, 16,\n",
       "       17, 18, 19, 20, 21, 22, 23, 24, 25, 26, 27, 28, 29, 30, 31, 32, 33,\n",
       "       34, 35, 36, 37, 38, 39, 40, 41, 42, 43, 44, 45, 46, 47, 48, 49, 50,\n",
       "       51, 52, 53, 54, 55, 56, 57, 58, 59, 60, 61, 62, 63, 64, 65, 66, 67,\n",
       "       68, 69, 70, 71, 72, 73, 74, 75, 76, 77, 78, 79, 80, 81, 82, 83, 84,\n",
       "       85, 86, 87, 88, 89, 90, 91, 92, 93, 94, 95, 96, 97, 98, 99])"
      ]
     },
     "execution_count": 78,
     "metadata": {},
     "output_type": "execute_result"
    }
   ],
   "source": [
    "N1"
   ]
  },
  {
   "cell_type": "code",
   "execution_count": 80,
   "id": "e4adcef7",
   "metadata": {},
   "outputs": [
    {
     "name": "stdout",
     "output_type": "stream",
     "text": [
      "This is a unique difference of copy when we use copy functionsafter that if we want to update records in arrays then only those \n",
      "functions will be changed which was selected and other records remains same!!!!!!\n",
      "copy functions used is very heavy\n",
      "\n"
     ]
    }
   ],
   "source": [
    "print(\"\"\"This is a unique difference of copy when we use copy functionsafter that if we want to update records in arrays then only those \n",
    "functions will be changed which was selected and other records remains same!!!!!!\n",
    "copy functions used is very heavy\n",
    "\"\"\")"
   ]
  },
  {
   "cell_type": "code",
   "execution_count": 81,
   "id": "236c5546",
   "metadata": {},
   "outputs": [
    {
     "data": {
      "text/plain": [
       "7"
      ]
     },
     "execution_count": 81,
     "metadata": {},
     "output_type": "execute_result"
    }
   ],
   "source": [
    "N1[7]"
   ]
  },
  {
   "cell_type": "code",
   "execution_count": 82,
   "id": "4d5b1cbb",
   "metadata": {},
   "outputs": [
    {
     "data": {
      "text/plain": [
       "12"
      ]
     },
     "execution_count": 82,
     "metadata": {},
     "output_type": "execute_result"
    }
   ],
   "source": [
    "N2[12]"
   ]
  },
  {
   "cell_type": "code",
   "execution_count": 83,
   "id": "2aab5e17",
   "metadata": {},
   "outputs": [
    {
     "data": {
      "text/plain": [
       "array([ 3,  2,  4,  6,  8, 10, 12, 14, 16, 18, 20, 22, 24, 26, 28, 30, 32,\n",
       "       34, 36, 38, 40, 42, 44, 46, 48, 50, 52, 54, 56, 58, 60, 62, 64, 66,\n",
       "       68, 70, 72, 74, 76, 78, 80, 82, 84, 86, 88, 90, 92, 94, 96, 98])"
      ]
     },
     "execution_count": 83,
     "metadata": {},
     "output_type": "execute_result"
    }
   ],
   "source": [
    "N1[::2]"
   ]
  },
  {
   "cell_type": "code",
   "execution_count": 84,
   "id": "db6821bd",
   "metadata": {},
   "outputs": [
    {
     "data": {
      "text/plain": [
       "array([99, 98, 97, 96, 95, 94, 93, 92, 91, 90, 89, 88, 87, 86, 85, 84, 83,\n",
       "       82, 81, 80, 79, 78, 77, 76, 75, 74, 73, 72, 71, 70, 69, 68, 67, 66,\n",
       "       65, 64, 63, 62, 61, 60, 59, 58, 57, 56, 55, 54, 53, 52, 51, 50, 49,\n",
       "       48, 47, 46, 45, 44, 43, 42, 41, 40, 39, 38, 37, 36, 35, 34, 33, 32,\n",
       "       31, 30, 29, 28, 27, 26, 25, 24, 23, 22, 21, 20, 19, 18, 17, 16, 15,\n",
       "       14, 13, 12, 11, 10,  9,  8,  7,  6,  5,  4,  3,  2,  1,  0])"
      ]
     },
     "execution_count": 84,
     "metadata": {},
     "output_type": "execute_result"
    }
   ],
   "source": [
    "N2[::-1]"
   ]
  },
  {
   "cell_type": "markdown",
   "id": "71680e5b",
   "metadata": {},
   "source": [
    "# To find Index of copy functions in unique functions "
   ]
  },
  {
   "cell_type": "code",
   "execution_count": 85,
   "id": "0d77cd85",
   "metadata": {},
   "outputs": [],
   "source": [
    "idx=np.argwhere(N2==90)[0][0]"
   ]
  },
  {
   "cell_type": "code",
   "execution_count": 86,
   "id": "08d6f247",
   "metadata": {},
   "outputs": [
    {
     "data": {
      "text/plain": [
       "90"
      ]
     },
     "execution_count": 86,
     "metadata": {},
     "output_type": "execute_result"
    }
   ],
   "source": [
    "idx"
   ]
  },
  {
   "cell_type": "code",
   "execution_count": 92,
   "id": "7dcf3053",
   "metadata": {},
   "outputs": [],
   "source": [
    "N1[0]=0"
   ]
  },
  {
   "cell_type": "code",
   "execution_count": 93,
   "id": "3efa93f9",
   "metadata": {},
   "outputs": [
    {
     "data": {
      "text/plain": [
       "array([ 0,  1,  2,  3,  4,  5,  6,  7,  8,  9, 10, 11, 12, 13, 14, 15, 16,\n",
       "       17, 18, 19, 20, 21, 22, 23, 24, 25, 26, 27, 28, 29, 30, 31, 32, 33,\n",
       "       34, 35, 36, 37, 38, 39, 40, 41, 42, 43, 44, 45, 46, 47, 48, 49, 50,\n",
       "       51, 52, 53, 54, 55, 56, 57, 58, 59, 60, 61, 62, 63, 64, 65, 66, 67,\n",
       "       68, 69, 70, 71, 72, 73, 74, 75, 76, 77, 78, 79, 80, 81, 82, 83, 84,\n",
       "       85, 86, 87, 88, 89,  0, 91, 92, 93, 94, 95, 96, 97, 98, 99])"
      ]
     },
     "execution_count": 93,
     "metadata": {},
     "output_type": "execute_result"
    }
   ],
   "source": [
    "N1"
   ]
  },
  {
   "cell_type": "markdown",
   "id": "ee99dc6f",
   "metadata": {},
   "source": [
    "# Numpy Matrix"
   ]
  },
  {
   "cell_type": "code",
   "execution_count": 94,
   "id": "d4931f92",
   "metadata": {},
   "outputs": [],
   "source": [
    "A1=np.random.rand(3,4)"
   ]
  },
  {
   "cell_type": "code",
   "execution_count": 95,
   "id": "32fdb081",
   "metadata": {},
   "outputs": [
    {
     "name": "stdout",
     "output_type": "stream",
     "text": [
      "[[0.15395794 0.75796802 0.26473435 0.08660892]\n",
      " [0.78601265 0.77044578 0.43863856 0.14618836]\n",
      " [0.77163139 0.09304346 0.18007794 0.22053156]]\n"
     ]
    }
   ],
   "source": [
    "print(A1)"
   ]
  },
  {
   "cell_type": "code",
   "execution_count": 96,
   "id": "490cde2c",
   "metadata": {},
   "outputs": [],
   "source": [
    "A1=np.round(10*np.random.rand(3,4))"
   ]
  },
  {
   "cell_type": "code",
   "execution_count": 97,
   "id": "111512fe",
   "metadata": {},
   "outputs": [
    {
     "name": "stdout",
     "output_type": "stream",
     "text": [
      "[[ 9.  6.  3.  3.]\n",
      " [ 4.  1. 10.  5.]\n",
      " [ 9.  9.  7.  9.]]\n"
     ]
    }
   ],
   "source": [
    "print(A1)"
   ]
  },
  {
   "cell_type": "code",
   "execution_count": 98,
   "id": "bbb5eb6e",
   "metadata": {},
   "outputs": [
    {
     "name": "stdout",
     "output_type": "stream",
     "text": [
      " In This Way We can define matrix\n",
      "\n",
      "\n"
     ]
    }
   ],
   "source": [
    "print(\"\"\" In This Way We can define matrix\n",
    "\n",
    "\"\"\")"
   ]
  },
  {
   "cell_type": "markdown",
   "id": "be673d78",
   "metadata": {},
   "source": [
    "Matrix Indexing In Numpy Library"
   ]
  },
  {
   "cell_type": "markdown",
   "id": "3f454aa1",
   "metadata": {},
   "source": [
    "..Indexing"
   ]
  },
  {
   "cell_type": "code",
   "execution_count": 99,
   "id": "1c685a2b",
   "metadata": {},
   "outputs": [
    {
     "data": {
      "text/plain": [
       "5.0"
      ]
     },
     "execution_count": 99,
     "metadata": {},
     "output_type": "execute_result"
    }
   ],
   "source": [
    "A1[1,3]"
   ]
  },
  {
   "cell_type": "code",
   "execution_count": 100,
   "id": "94e71dd0",
   "metadata": {},
   "outputs": [
    {
     "data": {
      "text/plain": [
       "array([[ 9.,  6.,  3.,  3.],\n",
       "       [ 4.,  1., 10.,  5.],\n",
       "       [ 9.,  9.,  7.,  9.]])"
      ]
     },
     "execution_count": 100,
     "metadata": {},
     "output_type": "execute_result"
    }
   ],
   "source": [
    "A1[:]"
   ]
  },
  {
   "cell_type": "code",
   "execution_count": 101,
   "id": "af8442ed",
   "metadata": {},
   "outputs": [
    {
     "data": {
      "text/plain": [
       "array([[ 4.,  1., 10.,  5.],\n",
       "       [ 9.,  9.,  7.,  9.]])"
      ]
     },
     "execution_count": 101,
     "metadata": {},
     "output_type": "execute_result"
    }
   ],
   "source": [
    "A1[1:]"
   ]
  },
  {
   "cell_type": "code",
   "execution_count": 102,
   "id": "a9dd6273",
   "metadata": {},
   "outputs": [
    {
     "data": {
      "text/plain": [
       "array([[ 9.,  6.,  3.,  3.],\n",
       "       [ 4.,  1., 10.,  5.]])"
      ]
     },
     "execution_count": 102,
     "metadata": {},
     "output_type": "execute_result"
    }
   ],
   "source": [
    "A1[:2]"
   ]
  },
  {
   "cell_type": "code",
   "execution_count": 103,
   "id": "c9e11e4b",
   "metadata": {},
   "outputs": [
    {
     "data": {
      "text/plain": [
       "array([[ 9.,  6.,  3.,  3.],\n",
       "       [ 4.,  1., 10.,  5.],\n",
       "       [ 9.,  9.,  7.,  9.]])"
      ]
     },
     "execution_count": 103,
     "metadata": {},
     "output_type": "execute_result"
    }
   ],
   "source": [
    "A1[::1]"
   ]
  },
  {
   "cell_type": "code",
   "execution_count": 105,
   "id": "544570e8",
   "metadata": {},
   "outputs": [
    {
     "data": {
      "text/plain": [
       "array([ 4.,  1., 10.,  5.])"
      ]
     },
     "execution_count": 105,
     "metadata": {},
     "output_type": "execute_result"
    }
   ],
   "source": [
    "A1[1,:]"
   ]
  },
  {
   "cell_type": "code",
   "execution_count": 106,
   "id": "07931bc6",
   "metadata": {},
   "outputs": [
    {
     "data": {
      "text/plain": [
       "array([6., 1., 9.])"
      ]
     },
     "execution_count": 106,
     "metadata": {},
     "output_type": "execute_result"
    }
   ],
   "source": [
    "A1[:,1]"
   ]
  },
  {
   "cell_type": "code",
   "execution_count": 107,
   "id": "328407c5",
   "metadata": {},
   "outputs": [
    {
     "data": {
      "text/plain": [
       "array([[ 9.,  6.,  3.,  3.],\n",
       "       [ 4.,  1., 10.,  5.],\n",
       "       [ 9.,  9.,  7.,  9.]])"
      ]
     },
     "execution_count": 107,
     "metadata": {},
     "output_type": "execute_result"
    }
   ],
   "source": [
    "A1[::]"
   ]
  },
  {
   "cell_type": "markdown",
   "id": "3dcfbef5",
   "metadata": {},
   "source": [
    "To Find Submatrix"
   ]
  },
  {
   "cell_type": "code",
   "execution_count": 108,
   "id": "36cccc5e",
   "metadata": {},
   "outputs": [
    {
     "data": {
      "text/plain": [
       "array([[10.,  5.],\n",
       "       [ 7.,  9.]])"
      ]
     },
     "execution_count": 108,
     "metadata": {},
     "output_type": "execute_result"
    }
   ],
   "source": [
    "A1[1:3,2:4]"
   ]
  },
  {
   "cell_type": "markdown",
   "id": "cb4beba0",
   "metadata": {},
   "source": [
    "To Find Transpose"
   ]
  },
  {
   "cell_type": "code",
   "execution_count": 111,
   "id": "2c4a2edf",
   "metadata": {},
   "outputs": [
    {
     "data": {
      "text/plain": [
       "array([[ 9.,  4.,  9.],\n",
       "       [ 6.,  1.,  9.],\n",
       "       [ 3., 10.,  7.],\n",
       "       [ 3.,  5.,  9.]])"
      ]
     },
     "execution_count": 111,
     "metadata": {},
     "output_type": "execute_result"
    }
   ],
   "source": [
    "A1.T"
   ]
  },
  {
   "cell_type": "markdown",
   "id": "65ca7de3",
   "metadata": {},
   "source": [
    "Inverse Function Using Linear Algebra In Numpy Library"
   ]
  },
  {
   "cell_type": "markdown",
   "id": "d460a5ed",
   "metadata": {},
   "source": [
    "To Find Inverse Using Different way"
   ]
  },
  {
   "cell_type": "code",
   "execution_count": 112,
   "id": "fc55cc6e",
   "metadata": {},
   "outputs": [],
   "source": [
    "import numpy.linalg as la"
   ]
  },
  {
   "cell_type": "code",
   "execution_count": 113,
   "id": "77351af9",
   "metadata": {},
   "outputs": [
    {
     "data": {
      "text/plain": [
       "array([[ 1.42631904,  5.10170316, -4.69661539],\n",
       "       [ 1.3655985 , -6.37874645,  3.52602089],\n",
       "       [-1.84239175,  3.14395278,  0.19898592]])"
      ]
     },
     "execution_count": 113,
     "metadata": {},
     "output_type": "execute_result"
    }
   ],
   "source": [
    "la.inv(np.random.rand(3,3))"
   ]
  },
  {
   "cell_type": "code",
   "execution_count": 114,
   "id": "978212cc",
   "metadata": {},
   "outputs": [
    {
     "name": "stdout",
     "output_type": "stream",
     "text": [
      "It gives Inverse\n"
     ]
    }
   ],
   "source": [
    "print(\"It gives Inverse\")"
   ]
  },
  {
   "cell_type": "markdown",
   "id": "851bf89d",
   "metadata": {},
   "source": [
    "# Uses Of Sorting Functions In Numpy Library"
   ]
  },
  {
   "cell_type": "markdown",
   "id": "adea2a45",
   "metadata": {},
   "source": [
    "Sorting For Row"
   ]
  },
  {
   "cell_type": "code",
   "execution_count": 2,
   "id": "54e740c9",
   "metadata": {},
   "outputs": [],
   "source": [
    "import numpy as np"
   ]
  },
  {
   "cell_type": "code",
   "execution_count": 7,
   "id": "c0dad6c5",
   "metadata": {},
   "outputs": [],
   "source": [
    "A2=np.random.rand(2,4)"
   ]
  },
  {
   "cell_type": "code",
   "execution_count": 8,
   "id": "2f99b815",
   "metadata": {},
   "outputs": [
    {
     "data": {
      "text/plain": [
       "array([[0.90183933, 0.31742723, 0.41325435, 0.2896849 ],\n",
       "       [0.51026874, 0.83316712, 0.66386601, 0.4261769 ]])"
      ]
     },
     "execution_count": 8,
     "metadata": {},
     "output_type": "execute_result"
    }
   ],
   "source": [
    "A2"
   ]
  },
  {
   "cell_type": "code",
   "execution_count": 9,
   "id": "17b6301f",
   "metadata": {},
   "outputs": [],
   "source": [
    "A2=np.round(10*np.random.rand(2,4))"
   ]
  },
  {
   "cell_type": "code",
   "execution_count": 10,
   "id": "662f553b",
   "metadata": {},
   "outputs": [
    {
     "data": {
      "text/plain": [
       "array([[1., 7., 8., 8.],\n",
       "       [8., 1., 7., 9.]])"
      ]
     },
     "execution_count": 10,
     "metadata": {},
     "output_type": "execute_result"
    }
   ],
   "source": [
    "A2"
   ]
  },
  {
   "cell_type": "code",
   "execution_count": 13,
   "id": "8a03c6eb",
   "metadata": {},
   "outputs": [],
   "source": [
    "A2.sort(axis=0) #Sorting For Rows"
   ]
  },
  {
   "cell_type": "code",
   "execution_count": 12,
   "id": "004e1a6d",
   "metadata": {},
   "outputs": [
    {
     "data": {
      "text/plain": [
       "array([[1., 1., 7., 8.],\n",
       "       [8., 7., 8., 9.]])"
      ]
     },
     "execution_count": 12,
     "metadata": {},
     "output_type": "execute_result"
    }
   ],
   "source": [
    "A2"
   ]
  },
  {
   "cell_type": "code",
   "execution_count": 14,
   "id": "630bf909",
   "metadata": {},
   "outputs": [],
   "source": [
    "A2.sort(axis=1) #Sorting For Coloumns"
   ]
  },
  {
   "cell_type": "code",
   "execution_count": 15,
   "id": "c7d05716",
   "metadata": {},
   "outputs": [
    {
     "data": {
      "text/plain": [
       "array([[1., 1., 7., 8.],\n",
       "       [7., 8., 8., 9.]])"
      ]
     },
     "execution_count": 15,
     "metadata": {},
     "output_type": "execute_result"
    }
   ],
   "source": [
    "A2"
   ]
  },
  {
   "cell_type": "code",
   "execution_count": 16,
   "id": "a46bd618",
   "metadata": {},
   "outputs": [
    {
     "name": "stdout",
     "output_type": "stream",
     "text": [
      "This Is All About Sorting Function For Numpy Functions 0 axis for rows and 1 axis for coloumns \n"
     ]
    }
   ],
   "source": [
    "print(\"This Is All About Sorting Function For Numpy Functions 0 axis for rows and 1 axis for coloumns \")"
   ]
  },
  {
   "cell_type": "markdown",
   "id": "0af0cd36",
   "metadata": {},
   "source": [
    "# Few More Indexing Functions For Numpy Functions"
   ]
  },
  {
   "cell_type": "markdown",
   "id": "c9401a9c",
   "metadata": {},
   "source": [
    "Let's Started"
   ]
  },
  {
   "cell_type": "code",
   "execution_count": 17,
   "id": "181e6f06",
   "metadata": {},
   "outputs": [],
   "source": [
    "import numpy as np"
   ]
  },
  {
   "cell_type": "code",
   "execution_count": 18,
   "id": "885593d0",
   "metadata": {},
   "outputs": [],
   "source": [
    "M1=np.random.rand(3,3)"
   ]
  },
  {
   "cell_type": "code",
   "execution_count": 19,
   "id": "a51ca1ef",
   "metadata": {},
   "outputs": [
    {
     "data": {
      "text/plain": [
       "array([[0.05706774, 0.20529937, 0.99993145],\n",
       "       [0.35959519, 0.02860642, 0.72793147],\n",
       "       [0.87045691, 0.63967516, 0.4450738 ]])"
      ]
     },
     "execution_count": 19,
     "metadata": {},
     "output_type": "execute_result"
    }
   ],
   "source": [
    "M1"
   ]
  },
  {
   "cell_type": "code",
   "execution_count": 20,
   "id": "92222375",
   "metadata": {},
   "outputs": [],
   "source": [
    "M1=np.round(10*np.random.rand(3,3))"
   ]
  },
  {
   "cell_type": "code",
   "execution_count": 21,
   "id": "2027e999",
   "metadata": {},
   "outputs": [
    {
     "data": {
      "text/plain": [
       "array([[ 2.,  8.,  9.],\n",
       "       [ 4.,  4.,  8.],\n",
       "       [10.,  6.,  5.]])"
      ]
     },
     "execution_count": 21,
     "metadata": {},
     "output_type": "execute_result"
    }
   ],
   "source": [
    "M1"
   ]
  },
  {
   "cell_type": "markdown",
   "id": "207e63f1",
   "metadata": {},
   "source": [
    "Uses Of < ,> ,= in Numpy Functions"
   ]
  },
  {
   "cell_type": "markdown",
   "id": "5eafc0de",
   "metadata": {},
   "source": [
    "Index Array"
   ]
  },
  {
   "cell_type": "code",
   "execution_count": 28,
   "id": "5613380e",
   "metadata": {},
   "outputs": [],
   "source": [
    "X=np.array([1,2,3,4,5,6,7,8,9,10,11,12,13,14,15,16,17,18,19,20])"
   ]
  },
  {
   "cell_type": "code",
   "execution_count": 30,
   "id": "bd1ef389",
   "metadata": {},
   "outputs": [
    {
     "name": "stdout",
     "output_type": "stream",
     "text": [
      "[ 1  2  3  4  5  6  7  8  9 10 11 12 13 14 15 16 17 18 19 20]\n"
     ]
    }
   ],
   "source": [
    "print(X)"
   ]
  },
  {
   "cell_type": "code",
   "execution_count": 33,
   "id": "6fa9f742",
   "metadata": {},
   "outputs": [
    {
     "data": {
      "text/plain": [
       "array([1, 2, 3, 4, 5, 6, 7])"
      ]
     },
     "execution_count": 33,
     "metadata": {},
     "output_type": "execute_result"
    }
   ],
   "source": [
    "X[X<8]"
   ]
  },
  {
   "cell_type": "code",
   "execution_count": 34,
   "id": "165a328a",
   "metadata": {},
   "outputs": [
    {
     "data": {
      "text/plain": [
       "array([], dtype=int32)"
      ]
     },
     "execution_count": 34,
     "metadata": {},
     "output_type": "execute_result"
    }
   ],
   "source": [
    "X[(X>10)&(X<10)]"
   ]
  },
  {
   "cell_type": "code",
   "execution_count": 35,
   "id": "42ecd467",
   "metadata": {},
   "outputs": [
    {
     "data": {
      "text/plain": [
       "array([ 1,  2,  3,  4,  5,  6,  7,  8,  9, 10, 11, 12, 13, 14, 15, 16, 17,\n",
       "       18, 19, 20])"
      ]
     },
     "execution_count": 35,
     "metadata": {},
     "output_type": "execute_result"
    }
   ],
   "source": [
    "X"
   ]
  },
  {
   "cell_type": "code",
   "execution_count": 2,
   "id": "2be3401d",
   "metadata": {},
   "outputs": [],
   "source": [
    "import numpy as np"
   ]
  },
  {
   "cell_type": "code",
   "execution_count": 5,
   "id": "1cf3fa66",
   "metadata": {},
   "outputs": [],
   "source": [
    "X=np.array([1,2,3,4,5,6,7,8,9,10])"
   ]
  },
  {
   "cell_type": "code",
   "execution_count": 6,
   "id": "dfe31c85",
   "metadata": {},
   "outputs": [
    {
     "data": {
      "text/plain": [
       "array([ 6,  7,  8,  9, 10])"
      ]
     },
     "execution_count": 6,
     "metadata": {},
     "output_type": "execute_result"
    }
   ],
   "source": [
    "X[X>5]"
   ]
  },
  {
   "cell_type": "code",
   "execution_count": 8,
   "id": "9c04e108",
   "metadata": {},
   "outputs": [
    {
     "data": {
      "text/plain": [
       "array([1, 2, 3])"
      ]
     },
     "execution_count": 8,
     "metadata": {},
     "output_type": "execute_result"
    }
   ],
   "source": [
    "X[X<4]"
   ]
  },
  {
   "cell_type": "code",
   "execution_count": 10,
   "id": "0295aeda",
   "metadata": {},
   "outputs": [],
   "source": [
    "X1=X"
   ]
  },
  {
   "cell_type": "code",
   "execution_count": 11,
   "id": "312de651",
   "metadata": {},
   "outputs": [
    {
     "data": {
      "text/plain": [
       "array([ 1,  2,  3,  4,  5,  6,  7,  8,  9, 10])"
      ]
     },
     "execution_count": 11,
     "metadata": {},
     "output_type": "execute_result"
    }
   ],
   "source": [
    "X1"
   ]
  },
  {
   "cell_type": "code",
   "execution_count": 12,
   "id": "49c898a1",
   "metadata": {},
   "outputs": [
    {
     "data": {
      "text/plain": [
       "array([ 6,  7,  8,  9, 10])"
      ]
     },
     "execution_count": 12,
     "metadata": {},
     "output_type": "execute_result"
    }
   ],
   "source": [
    "X1[X1>5]"
   ]
  },
  {
   "cell_type": "code",
   "execution_count": 14,
   "id": "bfdd75a2",
   "metadata": {},
   "outputs": [],
   "source": [
    "X1=X[(X1>10)&(X<7)]"
   ]
  },
  {
   "cell_type": "code",
   "execution_count": 15,
   "id": "23dd6042",
   "metadata": {},
   "outputs": [
    {
     "data": {
      "text/plain": [
       "array([], dtype=int32)"
      ]
     },
     "execution_count": 15,
     "metadata": {},
     "output_type": "execute_result"
    }
   ],
   "source": [
    "X1"
   ]
  },
  {
   "cell_type": "code",
   "execution_count": 16,
   "id": "af2c2a66",
   "metadata": {},
   "outputs": [],
   "source": [
    "X1=X[(X<5)&(X>5)]"
   ]
  },
  {
   "cell_type": "code",
   "execution_count": 17,
   "id": "8c130584",
   "metadata": {},
   "outputs": [
    {
     "data": {
      "text/plain": [
       "array([], dtype=int32)"
      ]
     },
     "execution_count": 17,
     "metadata": {},
     "output_type": "execute_result"
    }
   ],
   "source": [
    "X1"
   ]
  },
  {
   "cell_type": "code",
   "execution_count": 18,
   "id": "deb86ac3",
   "metadata": {},
   "outputs": [
    {
     "name": "stdout",
     "output_type": "stream",
     "text": [
      "[]\n"
     ]
    }
   ],
   "source": [
    "print(X1)"
   ]
  },
  {
   "cell_type": "markdown",
   "id": "bc4e40ed",
   "metadata": {},
   "source": [
    "& = and , / = or, ~ = not For Numpy Library"
   ]
  },
  {
   "cell_type": "code",
   "execution_count": 19,
   "id": "aad08725",
   "metadata": {},
   "outputs": [],
   "source": [
    "Z=np.arange(100)"
   ]
  },
  {
   "cell_type": "code",
   "execution_count": 20,
   "id": "bc585685",
   "metadata": {},
   "outputs": [],
   "source": [
    "Y=Z[[3,5,6]]"
   ]
  },
  {
   "cell_type": "code",
   "execution_count": 21,
   "id": "89f59ab7",
   "metadata": {},
   "outputs": [
    {
     "data": {
      "text/plain": [
       "array([3, 5, 6])"
      ]
     },
     "execution_count": 21,
     "metadata": {},
     "output_type": "execute_result"
    }
   ],
   "source": [
    "Y"
   ]
  },
  {
   "cell_type": "code",
   "execution_count": 22,
   "id": "09b5f59f",
   "metadata": {},
   "outputs": [],
   "source": [
    "Y=Z[Z<40]"
   ]
  },
  {
   "cell_type": "code",
   "execution_count": 23,
   "id": "21a6ae54",
   "metadata": {},
   "outputs": [
    {
     "data": {
      "text/plain": [
       "array([ 0,  1,  2,  3,  4,  5,  6,  7,  8,  9, 10, 11, 12, 13, 14, 15, 16,\n",
       "       17, 18, 19, 20, 21, 22, 23, 24, 25, 26, 27, 28, 29, 30, 31, 32, 33,\n",
       "       34, 35, 36, 37, 38, 39])"
      ]
     },
     "execution_count": 23,
     "metadata": {},
     "output_type": "execute_result"
    }
   ],
   "source": [
    "Y"
   ]
  },
  {
   "cell_type": "code",
   "execution_count": 24,
   "id": "fb77d74a",
   "metadata": {},
   "outputs": [],
   "source": [
    "Y=Z[(Z<40)&(Z>30)]"
   ]
  },
  {
   "cell_type": "code",
   "execution_count": 25,
   "id": "64dd694d",
   "metadata": {},
   "outputs": [
    {
     "data": {
      "text/plain": [
       "array([31, 32, 33, 34, 35, 36, 37, 38, 39])"
      ]
     },
     "execution_count": 25,
     "metadata": {},
     "output_type": "execute_result"
    }
   ],
   "source": [
    "Y"
   ]
  },
  {
   "cell_type": "markdown",
   "id": "b742f2ed",
   "metadata": {},
   "source": [
    "& ,/ ,~ is used for array in numpy library in python"
   ]
  },
  {
   "cell_type": "code",
   "execution_count": 26,
   "id": "2988a498",
   "metadata": {},
   "outputs": [
    {
     "name": "stdout",
     "output_type": "stream",
     "text": [
      "The Special Character is only used for numpy library to define and represent array \n"
     ]
    }
   ],
   "source": [
    "print(\"The Special Character is only used for numpy library to define and represent array \")"
   ]
  },
  {
   "cell_type": "markdown",
   "id": "1dae5951",
   "metadata": {},
   "source": [
    "# Few more Functions for numpy Library"
   ]
  },
  {
   "cell_type": "markdown",
   "id": "6c26cfea",
   "metadata": {},
   "source": [
    "Broadcasting"
   ]
  },
  {
   "cell_type": "code",
   "execution_count": 27,
   "id": "b66bd168",
   "metadata": {},
   "outputs": [],
   "source": [
    "O=np.random.rand(3,4)"
   ]
  },
  {
   "cell_type": "code",
   "execution_count": 28,
   "id": "f6a7b727",
   "metadata": {},
   "outputs": [
    {
     "data": {
      "text/plain": [
       "array([[0.10393429, 0.86254272, 0.49484626, 0.08041767],\n",
       "       [0.81381528, 0.54234929, 0.08991984, 0.80557498],\n",
       "       [0.87349349, 0.61903349, 0.81393132, 0.16698949]])"
      ]
     },
     "execution_count": 28,
     "metadata": {},
     "output_type": "execute_result"
    }
   ],
   "source": [
    "O"
   ]
  },
  {
   "cell_type": "code",
   "execution_count": 29,
   "id": "05185659",
   "metadata": {},
   "outputs": [],
   "source": [
    "O=np.round(10*np.random.rand(3,4))"
   ]
  },
  {
   "cell_type": "code",
   "execution_count": 30,
   "id": "38c19229",
   "metadata": {},
   "outputs": [
    {
     "data": {
      "text/plain": [
       "array([[8., 3., 3., 8.],\n",
       "       [6., 3., 8., 8.],\n",
       "       [3., 3., 0., 7.]])"
      ]
     },
     "execution_count": 30,
     "metadata": {},
     "output_type": "execute_result"
    }
   ],
   "source": [
    "O"
   ]
  },
  {
   "cell_type": "code",
   "execution_count": 32,
   "id": "72489d4b",
   "metadata": {},
   "outputs": [
    {
     "data": {
      "text/plain": [
       "array([[13.,  8.,  8., 13.],\n",
       "       [11.,  8., 13., 13.],\n",
       "       [ 8.,  8.,  5., 12.]])"
      ]
     },
     "execution_count": 32,
     "metadata": {},
     "output_type": "execute_result"
    }
   ],
   "source": [
    "O+5 #Broadcasting"
   ]
  },
  {
   "cell_type": "code",
   "execution_count": 33,
   "id": "7a56935a",
   "metadata": {},
   "outputs": [
    {
     "name": "stdout",
     "output_type": "stream",
     "text": [
      "Broadcasting means that number is added in matrix \n",
      "\n"
     ]
    }
   ],
   "source": [
    "print(\"\"\"Broadcasting means that number is added in matrix \n",
    "\"\"\")"
   ]
  },
  {
   "cell_type": "markdown",
   "id": "b41da2c7",
   "metadata": {},
   "source": [
    "hstack Functions For numpy library"
   ]
  },
  {
   "cell_type": "code",
   "execution_count": 34,
   "id": "cde8ef1b",
   "metadata": {},
   "outputs": [],
   "source": [
    "O1=np.round(10*np.random.rand(2,4))"
   ]
  },
  {
   "cell_type": "code",
   "execution_count": 35,
   "id": "3cb0e205",
   "metadata": {},
   "outputs": [
    {
     "data": {
      "text/plain": [
       "array([[ 4.,  8.,  9.,  6.],\n",
       "       [ 9.,  6.,  2., 10.]])"
      ]
     },
     "execution_count": 35,
     "metadata": {},
     "output_type": "execute_result"
    }
   ],
   "source": [
    "O1"
   ]
  },
  {
   "cell_type": "code",
   "execution_count": 37,
   "id": "b54278e7",
   "metadata": {},
   "outputs": [],
   "source": [
    "O2=np.hstack((O))"
   ]
  },
  {
   "cell_type": "code",
   "execution_count": 38,
   "id": "d94e4cec",
   "metadata": {},
   "outputs": [
    {
     "data": {
      "text/plain": [
       "array([8., 3., 3., 8., 6., 3., 8., 8., 3., 3., 0., 7.])"
      ]
     },
     "execution_count": 38,
     "metadata": {},
     "output_type": "execute_result"
    }
   ],
   "source": [
    "O2"
   ]
  },
  {
   "cell_type": "code",
   "execution_count": 40,
   "id": "b4a9b417",
   "metadata": {},
   "outputs": [
    {
     "name": "stdout",
     "output_type": "stream",
     "text": [
      "~~~~~~~~~\n"
     ]
    }
   ],
   "source": [
    "print(\"~~~~~~~~~\")"
   ]
  },
  {
   "cell_type": "code",
   "execution_count": 41,
   "id": "13d7236a",
   "metadata": {},
   "outputs": [],
   "source": [
    "K=np.random.rand(2,3)"
   ]
  },
  {
   "cell_type": "code",
   "execution_count": 42,
   "id": "7e52cc95",
   "metadata": {},
   "outputs": [],
   "source": [
    "K=np.round(10*np.random.rand(2,3))"
   ]
  },
  {
   "cell_type": "code",
   "execution_count": 43,
   "id": "eaee0a67",
   "metadata": {},
   "outputs": [
    {
     "data": {
      "text/plain": [
       "array([[11., 12., 13.],\n",
       "       [ 4.,  7.,  7.]])"
      ]
     },
     "execution_count": 43,
     "metadata": {},
     "output_type": "execute_result"
    }
   ],
   "source": [
    "K+3 # Broadcasting"
   ]
  },
  {
   "cell_type": "code",
   "execution_count": 44,
   "id": "04845853",
   "metadata": {},
   "outputs": [
    {
     "data": {
      "text/plain": [
       "array([[ 8.,  9., 10.],\n",
       "       [ 2.,  5.,  5.]])"
      ]
     },
     "execution_count": 44,
     "metadata": {},
     "output_type": "execute_result"
    }
   ],
   "source": [
    "K+(np.arange(2).reshape(2,1))"
   ]
  },
  {
   "cell_type": "code",
   "execution_count": 45,
   "id": "630a1197",
   "metadata": {},
   "outputs": [],
   "source": [
    "K1=np.random.rand(2,2)"
   ]
  },
  {
   "cell_type": "code",
   "execution_count": 46,
   "id": "f8dc0a90",
   "metadata": {},
   "outputs": [],
   "source": [
    "K1=np.round(10*np.random.rand(2,2))"
   ]
  },
  {
   "cell_type": "code",
   "execution_count": 47,
   "id": "5550c57b",
   "metadata": {},
   "outputs": [],
   "source": [
    "K2=np.hstack((K,K1))"
   ]
  },
  {
   "cell_type": "code",
   "execution_count": 48,
   "id": "1fcb6bf4",
   "metadata": {},
   "outputs": [
    {
     "data": {
      "text/plain": [
       "array([[ 8.,  9., 10.,  9.,  4.],\n",
       "       [ 1.,  4.,  4.,  7.,  9.]])"
      ]
     },
     "execution_count": 48,
     "metadata": {},
     "output_type": "execute_result"
    }
   ],
   "source": [
    "K2"
   ]
  },
  {
   "cell_type": "code",
   "execution_count": 49,
   "id": "1eaee8d1",
   "metadata": {},
   "outputs": [
    {
     "name": "stdout",
     "output_type": "stream",
     "text": [
      "hstack function is used for concatinate the matrix horizontal\n"
     ]
    }
   ],
   "source": [
    "print(\"hstack function is used for concatinate the matrix horizontal\")"
   ]
  },
  {
   "cell_type": "markdown",
   "id": "22a12b6d",
   "metadata": {},
   "source": [
    "And Vstack is used for concatinate the matrix in vertical"
   ]
  },
  {
   "cell_type": "code",
   "execution_count": 52,
   "id": "c60295a6",
   "metadata": {},
   "outputs": [],
   "source": [
    "A=np.random.permutation(np.arange(10))"
   ]
  },
  {
   "cell_type": "code",
   "execution_count": 53,
   "id": "2718541a",
   "metadata": {},
   "outputs": [
    {
     "data": {
      "text/plain": [
       "array([4, 7, 8, 3, 0, 1, 6, 2, 5, 9])"
      ]
     },
     "execution_count": 53,
     "metadata": {},
     "output_type": "execute_result"
    }
   ],
   "source": [
    "A"
   ]
  },
  {
   "cell_type": "markdown",
   "id": "6e13dbfd",
   "metadata": {},
   "source": [
    "For Sorting "
   ]
  },
  {
   "cell_type": "markdown",
   "id": "35bd951c",
   "metadata": {},
   "source": [
    "sort for acending order"
   ]
  },
  {
   "cell_type": "code",
   "execution_count": 54,
   "id": "9ae6ff4c",
   "metadata": {},
   "outputs": [
    {
     "data": {
      "text/plain": [
       "array([0, 1, 2, 3, 4, 5, 6, 7, 8, 9])"
      ]
     },
     "execution_count": 54,
     "metadata": {},
     "output_type": "execute_result"
    }
   ],
   "source": [
    "np.sort(A)"
   ]
  },
  {
   "cell_type": "markdown",
   "id": "11b7d155",
   "metadata": {},
   "source": [
    "Or, Onther Way is A.sort()"
   ]
  },
  {
   "cell_type": "markdown",
   "id": "386f3c0b",
   "metadata": {},
   "source": [
    "Sorting For Decending Order"
   ]
  },
  {
   "cell_type": "code",
   "execution_count": 60,
   "id": "343ea25e",
   "metadata": {},
   "outputs": [],
   "source": [
    "A.sort()"
   ]
  },
  {
   "cell_type": "code",
   "execution_count": 61,
   "id": "2e9a63bf",
   "metadata": {},
   "outputs": [],
   "source": [
    "A=A[::-1]"
   ]
  },
  {
   "cell_type": "code",
   "execution_count": 62,
   "id": "72ed2487",
   "metadata": {},
   "outputs": [
    {
     "data": {
      "text/plain": [
       "array([9, 8, 7, 6, 5, 4, 3, 2, 1, 0])"
      ]
     },
     "execution_count": 62,
     "metadata": {},
     "output_type": "execute_result"
    }
   ],
   "source": [
    "A"
   ]
  },
  {
   "cell_type": "code",
   "execution_count": 64,
   "id": "ccd98bd0",
   "metadata": {},
   "outputs": [],
   "source": [
    "B=np.array([\"abc\",\"cde\",\"efg\",\"hij\"])"
   ]
  },
  {
   "cell_type": "code",
   "execution_count": 68,
   "id": "d0481119",
   "metadata": {},
   "outputs": [],
   "source": [
    "B.sort() #sorting for string by alphabet number series"
   ]
  },
  {
   "cell_type": "code",
   "execution_count": 69,
   "id": "96e6e8aa",
   "metadata": {},
   "outputs": [
    {
     "data": {
      "text/plain": [
       "array(['abc', 'cde', 'efg', 'hij'], dtype='<U3')"
      ]
     },
     "execution_count": 69,
     "metadata": {},
     "output_type": "execute_result"
    }
   ],
   "source": [
    "B"
   ]
  },
  {
   "cell_type": "code",
   "execution_count": 70,
   "id": "ebf538ef",
   "metadata": {},
   "outputs": [
    {
     "name": "stdout",
     "output_type": "stream",
     "text": [
      "End Of The Code\n"
     ]
    }
   ],
   "source": [
    "print(\"End Of The Code\")"
   ]
  },
  {
   "cell_type": "code",
   "execution_count": null,
   "id": "c8bd2f4c",
   "metadata": {},
   "outputs": [],
   "source": []
  }
 ],
 "metadata": {
  "kernelspec": {
   "display_name": "Python 3 (ipykernel)",
   "language": "python",
   "name": "python3"
  },
  "language_info": {
   "codemirror_mode": {
    "name": "ipython",
    "version": 3
   },
   "file_extension": ".py",
   "mimetype": "text/x-python",
   "name": "python",
   "nbconvert_exporter": "python",
   "pygments_lexer": "ipython3",
   "version": "3.9.12"
  }
 },
 "nbformat": 4,
 "nbformat_minor": 5
}
